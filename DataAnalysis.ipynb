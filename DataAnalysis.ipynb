{
 "cells": [
  {
   "cell_type": "code",
   "execution_count": 33,
   "metadata": {
    "collapsed": false
   },
   "outputs": [],
   "source": [
    "import pandas as pd\n",
    "import geopandas as gd\n",
    "%matplotlib inline\n",
    "import matplotlib.pyplot as plt\n",
    "plt.style.use('ggplot')"
   ]
  },
  {
   "cell_type": "code",
   "execution_count": 3,
   "metadata": {
    "collapsed": false
   },
   "outputs": [
    {
     "name": "stderr",
     "output_type": "stream",
     "text": [
      "/Users/hunterowens/anaconda3/lib/python3.5/site-packages/IPython/core/interactiveshell.py:2902: DtypeWarning: Columns (24,42,43,44,45,46,54,59,60,61,62,71,77,78,80,86,87,90,91,92,93,106,107,108,109,110,124,125,126,138,139,140,141,154,155,156,157,170,171,172,173,174,188,190,191,194,198,205,206,207,211,215,222,223,224,226,227,230,231) have mixed types. Specify dtype option on import or set low_memory=False.\n",
      "  interactivity=interactivity, compiler=compiler, result=result)\n"
     ]
    }
   ],
   "source": [
    "df = pd.read_csv('./DEC16 LACMTA Stop Patronage (March, 2017 Bus Data - FY16 Rail Data).csv')"
   ]
  },
  {
   "cell_type": "code",
   "execution_count": 7,
   "metadata": {
    "collapsed": false
   },
   "outputs": [
    {
     "data": {
      "text/plain": [
       "Index(['Geometry', 'Stopnum', 'StopName', 'lat', 'long', 'muni', 'LA_CCD',\n",
       "       'SUPD', 'zip', 'neighborhood',\n",
       "       ...\n",
       "       'ACT.7', 'ACT.8', 'ACT.9', 'ACT.10', 'ACT.11', 'ACT.12', 'ACT.13',\n",
       "       'ACT.14', 'ACT.15', 'ACT.16'],\n",
       "      dtype='object', length=234)"
      ]
     },
     "execution_count": 7,
     "metadata": {},
     "output_type": "execute_result"
    }
   ],
   "source": [
    "df.columns"
   ]
  },
  {
   "cell_type": "code",
   "execution_count": 43,
   "metadata": {
    "collapsed": false,
    "scrolled": true
   },
   "outputs": [],
   "source": [
    "total_weekday_boardings = pd.to_numeric(df.All_DX_ACT.apply(lambda x: x.replace(',','')))"
   ]
  },
  {
   "cell_type": "code",
   "execution_count": 48,
   "metadata": {
    "collapsed": false
   },
   "outputs": [
    {
     "data": {
      "text/plain": [
       "6        324\n",
       "4        314\n",
       "3        303\n",
       "2        300\n",
       "7        274\n",
       "5        269\n",
       "9        257\n",
       "8        256\n",
       "11       225\n",
       "10       225\n",
       "13       221\n",
       "1        213\n",
       "12       203\n",
       "14       189\n",
       "16       178\n",
       "18       170\n",
       "20       168\n",
       "15       160\n",
       "19       160\n",
       "0        153\n",
       "22       151\n",
       "21       145\n",
       "25       139\n",
       "27       137\n",
       "17       136\n",
       "23       134\n",
       "24       121\n",
       "26       117\n",
       "31       112\n",
       "35       112\n",
       "        ... \n",
       "1163       1\n",
       "1155       1\n",
       "5201       1\n",
       "7232       1\n",
       "15412      1\n",
       "1075       1\n",
       "7208       1\n",
       "1059       1\n",
       "1795       1\n",
       "1907       1\n",
       "3966       1\n",
       "2093       1\n",
       "556        1\n",
       "2589       1\n",
       "540        1\n",
       "532        1\n",
       "524        1\n",
       "516        1\n",
       "6655       1\n",
       "508        1\n",
       "468        1\n",
       "460        1\n",
       "444        1\n",
       "420        1\n",
       "2413       1\n",
       "348        1\n",
       "4406       1\n",
       "2205       1\n",
       "10321      1\n",
       "1971       1\n",
       "Name: All_DX_ACT, dtype: int64"
      ]
     },
     "execution_count": 48,
     "metadata": {},
     "output_type": "execute_result"
    }
   ],
   "source": [
    "total_weekday_boardings.value_counts()"
   ]
  },
  {
   "cell_type": "code",
   "execution_count": null,
   "metadata": {
    "collapsed": true
   },
   "outputs": [],
   "source": []
  }
 ],
 "metadata": {
  "kernelspec": {
   "display_name": "Python 3",
   "language": "python",
   "name": "python3"
  },
  "language_info": {
   "codemirror_mode": {
    "name": "ipython",
    "version": 3
   },
   "file_extension": ".py",
   "mimetype": "text/x-python",
   "name": "python",
   "nbconvert_exporter": "python",
   "pygments_lexer": "ipython3",
   "version": "3.5.2"
  }
 },
 "nbformat": 4,
 "nbformat_minor": 0
}
