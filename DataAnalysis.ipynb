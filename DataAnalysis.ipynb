{
 "cells": [
  {
   "cell_type": "code",
   "execution_count": 14,
   "metadata": {
    "collapsed": false
   },
   "outputs": [],
   "source": [
    "import pandas as pd\n",
    "import geopandas as gd\n",
    "%matplotlib inline\n",
    "import matplotlib.pyplot as plt\n",
    "plt.style.use('ggplot')"
   ]
  },
  {
   "cell_type": "code",
   "execution_count": 15,
   "metadata": {
    "collapsed": false
   },
   "outputs": [
    {
     "name": "stderr",
     "output_type": "stream",
     "text": [
      "/Users/hunterowens/anaconda3/lib/python3.5/site-packages/IPython/core/interactiveshell.py:2902: DtypeWarning: Columns (24,42,43,44,45,46,54,59,60,61,62,71,77,78,80,86,87,90,91,92,93,106,107,108,109,110,124,125,126,138,139,140,141,154,155,156,157,170,171,172,173,174,188,190,191,194,198,205,206,207,211,215,222,223,224,226,227,230,231) have mixed types. Specify dtype option on import or set low_memory=False.\n",
      "  interactivity=interactivity, compiler=compiler, result=result)\n"
     ]
    }
   ],
   "source": [
    "df = pd.read_csv('./data/DEC16 LACMTA Stop Patronage (March, 2017 Bus Data - FY16 Rail Data).csv')"
   ]
  },
  {
   "cell_type": "code",
   "execution_count": 16,
   "metadata": {
    "collapsed": false
   },
   "outputs": [
    {
     "data": {
      "text/plain": [
       "Index(['Geometry', 'Stopnum', 'StopName', 'lat', 'long', 'muni', 'LA_CCD',\n",
       "       'SUPD', 'zip', 'neighborhood',\n",
       "       ...\n",
       "       'ACT.7', 'ACT.8', 'ACT.9', 'ACT.10', 'ACT.11', 'ACT.12', 'ACT.13',\n",
       "       'ACT.14', 'ACT.15', 'ACT.16'],\n",
       "      dtype='object', length=234)"
      ]
     },
     "execution_count": 16,
     "metadata": {},
     "output_type": "execute_result"
    }
   ],
   "source": [
    "df.columns"
   ]
  },
  {
   "cell_type": "code",
   "execution_count": 17,
   "metadata": {
    "collapsed": false,
    "scrolled": true
   },
   "outputs": [],
   "source": [
    "total_weekday_boardings = pd.to_numeric(df.All_DX_ACT.apply(lambda x: x.replace(',','')))"
   ]
  },
  {
   "cell_type": "code",
   "execution_count": 43,
   "metadata": {
    "collapsed": false
   },
   "outputs": [
    {
     "ename": "NameError",
     "evalue": "name 'l' is not defined",
     "output_type": "error",
     "traceback": [
      "\u001b[0;31m---------------------------------------------------------------------------\u001b[0m",
      "\u001b[0;31mNameError\u001b[0m                                 Traceback (most recent call last)",
      "\u001b[0;32m<ipython-input-43-12f54a96f644>\u001b[0m in \u001b[0;36m<module>\u001b[0;34m()\u001b[0m\n\u001b[0;32m----> 1\u001b[0;31m \u001b[0ml\u001b[0m\u001b[0;34m\u001b[0m\u001b[0m\n\u001b[0m",
      "\u001b[0;31mNameError\u001b[0m: name 'l' is not defined"
     ]
    }
   ],
   "source": [
    "l"
   ]
  },
  {
   "cell_type": "code",
   "execution_count": 1,
   "metadata": {
    "collapsed": true
   },
   "outputs": [],
   "source": [
    "import fiona"
   ]
  },
  {
   "cell_type": "code",
   "execution_count": 26,
   "metadata": {
    "collapsed": true
   },
   "outputs": [],
   "source": [
    "import geopandas as gpd"
   ]
  },
  {
   "cell_type": "code",
   "execution_count": 34,
   "metadata": {
    "collapsed": false
   },
   "outputs": [
    {
     "data": {
      "text/html": [
       "<div>\n",
       "<table border=\"1\" class=\"dataframe\">\n",
       "  <thead>\n",
       "    <tr style=\"text-align: right;\">\n",
       "      <th></th>\n",
       "      <th>VAR_DESCR</th>\n",
       "      <th>VAR_DIREC</th>\n",
       "      <th>VAR_IDENT</th>\n",
       "      <th>VAR_ROUTE</th>\n",
       "      <th>geometry</th>\n",
       "    </tr>\n",
       "  </thead>\n",
       "  <tbody>\n",
       "    <tr>\n",
       "      <th>0</th>\n",
       "      <td>MAPLOT - ELAC T. CENTER</td>\n",
       "      <td>2</td>\n",
       "      <td>E1</td>\n",
       "      <td>68</td>\n",
       "      <td>LINESTRING Z (-118.249134 34.042351 0, -118.24...</td>\n",
       "    </tr>\n",
       "    <tr>\n",
       "      <th>1</th>\n",
       "      <td>MONTEBELLO</td>\n",
       "      <td>2</td>\n",
       "      <td>E2</td>\n",
       "      <td>68</td>\n",
       "      <td>LINESTRING Z (-118.186677 34.040515 0, -118.18...</td>\n",
       "    </tr>\n",
       "    <tr>\n",
       "      <th>2</th>\n",
       "      <td>CESATL P-IN AND INDSTA</td>\n",
       "      <td>2</td>\n",
       "      <td>E3</td>\n",
       "      <td>68</td>\n",
       "      <td>LINESTRING Z (-118.186677 34.040515 0, -118.18...</td>\n",
       "    </tr>\n",
       "    <tr>\n",
       "      <th>3</th>\n",
       "      <td>ELAC T. CENTER - MAPLOT</td>\n",
       "      <td>3</td>\n",
       "      <td>W1</td>\n",
       "      <td>68</td>\n",
       "      <td>LINESTRING Z (-118.145944 34.03997 0, -118.146...</td>\n",
       "    </tr>\n",
       "    <tr>\n",
       "      <th>4</th>\n",
       "      <td>MONTEBELLO</td>\n",
       "      <td>3</td>\n",
       "      <td>W2</td>\n",
       "      <td>68</td>\n",
       "      <td>LINESTRING Z (-118.084405 34.034343 0, -118.08...</td>\n",
       "    </tr>\n",
       "    <tr>\n",
       "      <th>5</th>\n",
       "      <td>INDSTA</td>\n",
       "      <td>3</td>\n",
       "      <td>W3</td>\n",
       "      <td>68</td>\n",
       "      <td>LINESTRING Z (-118.192373 34.034046 0, -118.19...</td>\n",
       "    </tr>\n",
       "    <tr>\n",
       "      <th>6</th>\n",
       "      <td>6THLOS</td>\n",
       "      <td>3</td>\n",
       "      <td>W5</td>\n",
       "      <td>68</td>\n",
       "      <td>LINESTRING Z (-118.225307 34.054145 0, -118.22...</td>\n",
       "    </tr>\n",
       "  </tbody>\n",
       "</table>\n",
       "</div>"
      ],
      "text/plain": [
       "                 VAR_DESCR  VAR_DIREC VAR_IDENT VAR_ROUTE  \\\n",
       "0  MAPLOT - ELAC T. CENTER          2        E1        68   \n",
       "1               MONTEBELLO          2        E2        68   \n",
       "2   CESATL P-IN AND INDSTA          2        E3        68   \n",
       "3  ELAC T. CENTER - MAPLOT          3        W1        68   \n",
       "4               MONTEBELLO          3        W2        68   \n",
       "5                   INDSTA          3        W3        68   \n",
       "6                   6THLOS          3        W5        68   \n",
       "\n",
       "                                            geometry  \n",
       "0  LINESTRING Z (-118.249134 34.042351 0, -118.24...  \n",
       "1  LINESTRING Z (-118.186677 34.040515 0, -118.18...  \n",
       "2  LINESTRING Z (-118.186677 34.040515 0, -118.18...  \n",
       "3  LINESTRING Z (-118.145944 34.03997 0, -118.146...  \n",
       "4  LINESTRING Z (-118.084405 34.034343 0, -118.08...  \n",
       "5  LINESTRING Z (-118.192373 34.034046 0, -118.19...  \n",
       "6  LINESTRING Z (-118.225307 34.054145 0, -118.22...  "
      ]
     },
     "execution_count": 34,
     "metadata": {},
     "output_type": "execute_result"
    }
   ],
   "source": [
    "gpd.read_file('./data/Individuals1216/68.shp')"
   ]
  },
  {
   "cell_type": "code",
   "execution_count": null,
   "metadata": {
    "collapsed": true
   },
   "outputs": [],
   "source": []
  }
 ],
 "metadata": {
  "kernelspec": {
   "display_name": "Python 3",
   "language": "python",
   "name": "python3"
  },
  "language_info": {
   "codemirror_mode": {
    "name": "ipython",
    "version": 3
   },
   "file_extension": ".py",
   "mimetype": "text/x-python",
   "name": "python",
   "nbconvert_exporter": "python",
   "pygments_lexer": "ipython3",
   "version": "3.5.2"
  }
 },
 "nbformat": 4,
 "nbformat_minor": 0
}
